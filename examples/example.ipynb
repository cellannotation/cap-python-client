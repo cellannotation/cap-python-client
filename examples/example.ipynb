{
 "cells": [
  {
   "cell_type": "markdown",
   "metadata": {},
   "source": [
    "```\n",
    "import json\n",
    "from cap_client import Cap\n",
    "from cap_client.client.input_types import DatasetObjectInput\n",
    "\n",
    "cap = Cap(\n",
    "    url = \"https://rc1.celltype.info/graphql\", \n",
    "    auth_url = \"us-central1-capv2-gke-rc1.cloudfunctions.net\",\n",
    "    login = \"<login>\",\n",
    "    pwd = \"<password>\" \n",
    ")\n",
    "\n",
    "# public API \n",
    "\n",
    "datasets = cap.search_datasets()\n",
    "\n",
    "# for dataset in datasets.results:\n",
    "dataset  = datasets.results[1]\n",
    "print(\"Processing dataset id: \", dataset.id) \n",
    "\n",
    "print(\"Files status\")\n",
    "cap.files_status(dataset.id)\n",
    "\n",
    "print(\"Dataset initial query\")\n",
    "snapshot = cap.dataset_initial_state_query(dataset.id)\n",
    "\n",
    "print(\"Create session\")\n",
    "session_id = \"123qwerty\"\n",
    "# TODO DatasetIntialStateQuery should be compatible with DatasetObjectInput \n",
    "# OR should be the endpoint to get a snapshot for session creation\n",
    "snapshot = snapshot.model_dump()\n",
    "embeddings = cap.create_session(session_id = session_id, dataset = DatasetObjectInput(**snapshot))\n",
    "\n",
    "print(\"General DE\")\n",
    "labelset = dataset.labelsets[1]    \n",
    "cap.general_de(dataset_id = dataset.id, labelset_id = labelset.id, session_id = session_id)\n",
    "\n",
    "# TODO: Cover full MD page cycle '''\n",
    "\n",
    "# authorized API \n",
    "\n",
    "'''\n",
    "if cap._authenticate() == True:\n",
    "    # authorized API call\n",
    "\n",
    "'''    \n",
    "```"
   ]
  },
  {
   "cell_type": "code",
   "execution_count": 1,
   "metadata": {},
   "outputs": [],
   "source": [
    "import sys\n",
    "sys.path.append(\"../\")"
   ]
  },
  {
   "cell_type": "code",
   "execution_count": 2,
   "metadata": {},
   "outputs": [],
   "source": [
    "from cap_client import CapClient"
   ]
  },
  {
   "cell_type": "code",
   "execution_count": 3,
   "metadata": {},
   "outputs": [],
   "source": [
    "client = CapClient()"
   ]
  },
  {
   "cell_type": "code",
   "execution_count": 4,
   "metadata": {},
   "outputs": [],
   "source": [
    "ds = client.search_datasets()"
   ]
  },
  {
   "cell_type": "code",
   "execution_count": 5,
   "metadata": {},
   "outputs": [
    {
     "data": {
      "text/plain": [
       "SearchDatasetsResults(id='825', name='An Atlas of Cells in the Human Tonsil', cell_count=377963.0, labelsets=[DatasetResultLabelsets(id='10911', name='cell_type_azimuth', labels=[DatasetResultLabelsetsLabels(id='135086', name='LZ GCB', count=7884, typename__='Label'), DatasetResultLabelsetsLabels(id='135085', name='non-TRDV2+ gdT', count=743, typename__='Label'), DatasetResultLabelsetsLabels(id='135091', name='prePB', count=1033, typename__='Label'), DatasetResultLabelsetsLabels(id='135110', name='Cycling myeloid', count=159, typename__='Label'), DatasetResultLabelsetsLabels(id='135112', name='FDC', count=1061, typename__='Label'), DatasetResultLabelsetsLabels(id='135105', name='aDC', count=457, typename__='Label'), DatasetResultLabelsetsLabels(id='135100', name='CD4 Non-TFH', count=5908, typename__='Label'), DatasetResultLabelsetsLabels(id='135098', name='CD4 TFH Mem', count=3491, typename__='Label'), DatasetResultLabelsetsLabels(id='135092', name='B activated', count=14777, typename__='Label'), DatasetResultLabelsetsLabels(id='135117', name='B memory', count=51387, typename__='Label'), DatasetResultLabelsetsLabels(id='135093', name='B naive', count=85755, typename__='Label'), DatasetResultLabelsetsLabels(id='135119', name='CD4 naive', count=26279, typename__='Label'), DatasetResultLabelsetsLabels(id='135099', name='CD4 TCM', count=18809, typename__='Label'), DatasetResultLabelsetsLabels(id='135120', name='CD4 TFH', count=25880, typename__='Label'), DatasetResultLabelsetsLabels(id='135126', name='CD4 TREG', count=7678, typename__='Label'), DatasetResultLabelsetsLabels(id='135101', name='CD8 naive', count=7594, typename__='Label'), DatasetResultLabelsetsLabels(id='135121', name='CD8 T', count=6865, typename__='Label'), DatasetResultLabelsetsLabels(id='135102', name='CD8 TCM', count=2099, typename__='Label'), DatasetResultLabelsetsLabels(id='135118', name='Cycling DZ GCB', count=29390, typename__='Label'), DatasetResultLabelsetsLabels(id='135125', name='Cycling FDC', count=248, typename__='Label'), DatasetResultLabelsetsLabels(id='135095', name='Cycling T', count=2580, typename__='Label'), DatasetResultLabelsetsLabels(id='135114', name='DC', count=1583, typename__='Label'), DatasetResultLabelsetsLabels(id='135111', name='dnT', count=1017, typename__='Label'), DatasetResultLabelsetsLabels(id='135087', name='DZ GCB', count=7902, typename__='Label'), DatasetResultLabelsetsLabels(id='135094', name='DZtoLZ GCB transition', count=20878, typename__='Label'), DatasetResultLabelsetsLabels(id='135106', name='Epithelial', count=396, typename__='Label'), DatasetResultLabelsetsLabels(id='135090', name='FCRL4/5+ B memory', count=14693, typename__='Label'), DatasetResultLabelsetsLabels(id='135109', name='Granulocytes', count=207, typename__='Label'), DatasetResultLabelsetsLabels(id='135116', name='ILC', count=718, typename__='Label'), DatasetResultLabelsetsLabels(id='135122', name='LZtoDZ GCB transition', count=6086, typename__='Label'), DatasetResultLabelsetsLabels(id='135103', name='MAIT/TRDV2+ gdT', count=571, typename__='Label'), DatasetResultLabelsetsLabels(id='135108', name='Mast', count=78, typename__='Label'), DatasetResultLabelsetsLabels(id='135104', name='MBC-derived PC / doublets', count=584, typename__='Label'), DatasetResultLabelsetsLabels(id='135096', name='Mono/Macro', count=2225, typename__='Label'), DatasetResultLabelsetsLabels(id='135123', name='NK', count=369, typename__='Label'), DatasetResultLabelsetsLabels(id='135124', name='NK_CD56bright', count=312, typename__='Label'), DatasetResultLabelsetsLabels(id='135089', name='PB', count=955, typename__='Label'), DatasetResultLabelsetsLabels(id='135088', name='PC', count=10131, typename__='Label'), DatasetResultLabelsetsLabels(id='135113', name='PDC', count=915, typename__='Label'), DatasetResultLabelsetsLabels(id='135107', name='preB/T', count=89, typename__='Label'), DatasetResultLabelsetsLabels(id='135115', name='preGCB', count=3820, typename__='Label'), DatasetResultLabelsetsLabels(id='135097', name='preMBC/doublet', count=4357, typename__='Label')], typename__='Labelset'), DatasetResultLabelsets(id='10919', name='10X_channel', labels=[DatasetResultLabelsetsLabels(id='135211', name='bz5rpwtv_kg7w108r', count=8458, typename__='Label'), DatasetResultLabelsetsLabels(id='135218', name='dvdzq8et_eot75su8', count=7071, typename__='Label'), DatasetResultLabelsetsLabels(id='135214', name='ejto2bae_y5mydeam', count=7804, typename__='Label'), DatasetResultLabelsetsLabels(id='135220', name='et5kifg3_0ufc6p4w', count=5273, typename__='Label'), DatasetResultLabelsetsLabels(id='135221', name='hg9au5oq_9ih1c0vd', count=5172, typename__='Label'), DatasetResultLabelsetsLabels(id='135213', name='i5udk3x0_57gv6ncx', count=7816, typename__='Label'), DatasetResultLabelsetsLabels(id='135219', name='indj51br_urakqcmi', count=5804, typename__='Label'), DatasetResultLabelsetsLabels(id='135222', name='izi9unx1_8qdzhivu', count=4602, typename__='Label'), DatasetResultLabelsetsLabels(id='135228', name='jb6vuao4_g4vi9ur0', count=971, typename__='Label'), DatasetResultLabelsetsLabels(id='135224', name='lf02okcv_j85nmx31', count=3820, typename__='Label'), DatasetResultLabelsetsLabels(id='135216', name='n1b3su0a_l7shyi35', count=7401, typename__='Label'), DatasetResultLabelsetsLabels(id='135215', name='odyctre0_4qtf9h1z', count=7719, typename__='Label'), DatasetResultLabelsetsLabels(id='135217', name='TIP02-1_fresh', count=7231, typename__='Label'), DatasetResultLabelsetsLabels(id='135226', name='TIP04-1_fresh', count=3574, typename__='Label'), DatasetResultLabelsetsLabels(id='135227', name='TIP04-2_fresh', count=2408, typename__='Label'), DatasetResultLabelsetsLabels(id='135210', name='wf4su8ny_h4yj8bv7', count=8569, typename__='Label'), DatasetResultLabelsetsLabels(id='135223', name='wkup7hvl_reo7jg84', count=4029, typename__='Label'), DatasetResultLabelsetsLabels(id='135229', name='x739d5z1_dsamhgey', count=6022, typename__='Label'), DatasetResultLabelsetsLabels(id='135225', name='y7qn780g_p6jkgk63', count=3803, typename__='Label'), DatasetResultLabelsetsLabels(id='135212', name='z3of7uaq_mzbhy4tt', count=7982, typename__='Label'), DatasetResultLabelsetsLabels(id='135202', name='md651vbh_eymr91s7', count=10420, typename__='Label'), DatasetResultLabelsetsLabels(id='135190', name='nqyw13tk_o7guqugw', count=21505, typename__='Label'), DatasetResultLabelsetsLabels(id='135191', name='p4b145yq_4z8crwqq', count=21462, typename__='Label'), DatasetResultLabelsetsLabels(id='135194', name='rfs8oamh_0obpdn7k', count=16152, typename__='Label'), DatasetResultLabelsetsLabels(id='135199', name='TIP01-1_fresh', count=12114, typename__='Label'), DatasetResultLabelsetsLabels(id='135205', name='TIP02-2_fresh', count=9603, typename__='Label'), DatasetResultLabelsetsLabels(id='135206', name='TIP03-1_fresh', count=9256, typename__='Label'), DatasetResultLabelsetsLabels(id='135200', name='TIP03-2_fresh', count=12037, typename__='Label'), DatasetResultLabelsetsLabels(id='135207', name='umt51kfr_p8ei65ms', count=8943, typename__='Label'), DatasetResultLabelsetsLabels(id='135209', name='v8g80gtx_ps9bamz7', count=8632, typename__='Label'), DatasetResultLabelsetsLabels(id='135195', name='xxfne43y_x9dh95oz', count=16017, typename__='Label'), DatasetResultLabelsetsLabels(id='135193', name='altbaco5_45sf3wul', count=18173, typename__='Label'), DatasetResultLabelsetsLabels(id='135201', name='bw94nf57_vm85woki', count=11786, typename__='Label'), DatasetResultLabelsetsLabels(id='135192', name='c3ftguo2_xxwxs507', count=18679, typename__='Label'), DatasetResultLabelsetsLabels(id='135197', name='d8kwy76j_7blj9otf', count=12789, typename__='Label'), DatasetResultLabelsetsLabels(id='135204', name='dvcbn9p8_ix0j3k8b', count=9985, typename__='Label'), DatasetResultLabelsetsLabels(id='135203', name='ff8s19u3_7e96iusr', count=10402, typename__='Label'), DatasetResultLabelsetsLabels(id='135198', name='ggq3nifm_jkilwp1x', count=12568, typename__='Label'), DatasetResultLabelsetsLabels(id='135196', name='giz3qso4_783dbpu6', count=13237, typename__='Label'), DatasetResultLabelsetsLabels(id='135208', name='kjzv2rwx_sfomyxok', count=8674, typename__='Label')], typename__='Labelset'), DatasetResultLabelsets(id='10920', name='age_group', labels=[DatasetResultLabelsetsLabels(id='135231', name='child', count=149463, typename__='Label'), DatasetResultLabelsetsLabels(id='135232', name='old_adult', count=74594, typename__='Label'), DatasetResultLabelsetsLabels(id='135230', name='young_adult', count=153906, typename__='Label')], typename__='Labelset'), DatasetResultLabelsets(id='10921', name='hospital', labels=[DatasetResultLabelsetsLabels(id='135233', name='CIMA', count=186358, typename__='Label'), DatasetResultLabelsetsLabels(id='135234', name='Clinic', count=135382, typename__='Label'), DatasetResultLabelsetsLabels(id='135235', name='Newcastle', count=56223, typename__='Label')], typename__='Labelset'), DatasetResultLabelsets(id='10912', name='tissue', labels=[DatasetResultLabelsetsLabels(id='135127', name='palatine tonsil', count=377963, typename__='Label')], typename__='Labelset'), DatasetResultLabelsets(id='10913', name='organism', labels=[DatasetResultLabelsetsLabels(id='135128', name='Homo sapiens', count=377963, typename__='Label')], typename__='Labelset'), DatasetResultLabelsets(id='10914', name='donor_id', labels=[DatasetResultLabelsetsLabels(id='135132', name='BCLL-10-T', count=32073, typename__='Label'), DatasetResultLabelsetsLabels(id='135134', name='BCLL-11-T', count=24207, typename__='Label'), DatasetResultLabelsetsLabels(id='135139', name='BCLL-12-T', count=18366, typename__='Label'), DatasetResultLabelsetsLabels(id='135136', name='BCLL-13-T', count=22199, typename__='Label'), DatasetResultLabelsetsLabels(id='135138', name='BCLL-14-T', count=21109, typename__='Label'), DatasetResultLabelsetsLabels(id='135142', name='BCLL-15-T', count=15786, typename__='Label'), DatasetResultLabelsetsLabels(id='135143', name='BCLL-20-T', count=12114, typename__='Label'), DatasetResultLabelsetsLabels(id='135141', name='BCLL-21-T', count=16834, typename__='Label'), DatasetResultLabelsetsLabels(id='135137', name='BCLL-22-T', count=21293, typename__='Label'), DatasetResultLabelsetsLabels(id='135130', name='BCLL-24-T', count=36852, typename__='Label'), DatasetResultLabelsetsLabels(id='135129', name='BCLL-25-T', count=42967, typename__='Label'), DatasetResultLabelsetsLabels(id='135131', name='BCLL-26-T', count=32169, typename__='Label'), DatasetResultLabelsetsLabels(id='135144', name='BCLL-28-T', count=5982, typename__='Label'), DatasetResultLabelsetsLabels(id='135145', name='BCLL-2-T', count=5573, typename__='Label'), DatasetResultLabelsetsLabels(id='135140', name='BCLL-6-T', count=17821, typename__='Label'), DatasetResultLabelsetsLabels(id='135133', name='BCLL-8-T', count=30055, typename__='Label'), DatasetResultLabelsetsLabels(id='135135', name='BCLL-9-T', count=22563, typename__='Label')], typename__='Labelset'), DatasetResultLabelsets(id='10915', name='libraryID', labels=[DatasetResultLabelsetsLabels(id='135165', name='BCLL_10_T_1_hashing', count=11786, typename__='Label'), DatasetResultLabelsetsLabels(id='135162', name='BCLL_10_T_2_hashing', count=12568, typename__='Label'), DatasetResultLabelsetsLabels(id='135179', name='BCLL_10_T_5K', count=7719, typename__='Label'), DatasetResultLabelsetsLabels(id='135168', name='BCLL_11_T_1_hashing', count=9985, typename__='Label'), DatasetResultLabelsetsLabels(id='135167', name='BCLL_11_T_2_hashing', count=10402, typename__='Label'), DatasetResultLabelsetsLabels(id='135154', name='BCLL_11_T_5K', count=3820, typename__='Label'), DatasetResultLabelsetsLabels(id='135149', name='BCLL_12_T_1_hashing', count=6022, typename__='Label'), DatasetResultLabelsetsLabels(id='135148', name='BCLL_12_T_2_hashing', count=7071, typename__='Label'), DatasetResultLabelsetsLabels(id='135151', name='BCLL_12_T_5K', count=5273, typename__='Label'), DatasetResultLabelsetsLabels(id='135174', name='BCLL_13_T_1_hashing', count=8569, typename__='Label'), DatasetResultLabelsetsLabels(id='135175', name='BCLL_13_T_2_hashing', count=8458, typename__='Label'), DatasetResultLabelsetsLabels(id='135146', name='BCLL_13_T_5K', count=5172, typename__='Label'), DatasetResultLabelsetsLabels(id='135173', name='BCLL_14_T_1_hashing', count=8632, typename__='Label'), DatasetResultLabelsetsLabels(id='135172', name='BCLL_14_T_2_hashing', count=8674, typename__='Label'), DatasetResultLabelsetsLabels(id='135155', name='BCLL_14_T_5K', count=3803, typename__='Label'), DatasetResultLabelsetsLabels(id='135176', name='BCLL_15_T_1_hashing', count=7982, typename__='Label'), DatasetResultLabelsetsLabels(id='135178', name='BCLL_15_T_2_hashing', count=7804, typename__='Label'), DatasetResultLabelsetsLabels(id='135184', name='BCLL_24_T_1_hashing', count=18173, typename__='Label'), DatasetResultLabelsetsLabels(id='135183', name='BCLL_24_T_2_hashing', count=18679, typename__='Label'), DatasetResultLabelsetsLabels(id='135182', name='BCLL_25_T_1_hashing', count=21462, typename__='Label'), DatasetResultLabelsetsLabels(id='135152', name='BCLL_25_T_2_hashing', count=21505, typename__='Label'), DatasetResultLabelsetsLabels(id='135159', name='BCLL_26_T_GEX_1', count=16017, typename__='Label'), DatasetResultLabelsetsLabels(id='135185', name='BCLL_26_T_GEX_2', count=16152, typename__='Label'), DatasetResultLabelsetsLabels(id='135158', name='BCLL_2_T_5K', count=971, typename__='Label'), DatasetResultLabelsetsLabels(id='135147', name='BCLL_2_T_hashing', count=4602, typename__='Label'), DatasetResultLabelsetsLabels(id='135180', name='BCLL_6_T_1_hashing', count=7401, typename__='Label'), DatasetResultLabelsetsLabels(id='135166', name='BCLL_6_T_2_hashing', count=10420, typename__='Label'), DatasetResultLabelsetsLabels(id='135161', name='BCLL_8_T_1_hashing', count=12789, typename__='Label'), DatasetResultLabelsetsLabels(id='135160', name='BCLL_8_T_2_hashing', count=13237, typename__='Label'), DatasetResultLabelsetsLabels(id='135153', name='BCLL_8_T_5K', count=4029, typename__='Label'), DatasetResultLabelsetsLabels(id='135171', name='BCLL_9_T_1_hashing', count=8943, typename__='Label'), DatasetResultLabelsetsLabels(id='135177', name='BCLL_9_T_2_hashing', count=7816, typename__='Label'), DatasetResultLabelsetsLabels(id='135150', name='BCLL_9_T_5K', count=5804, typename__='Label'), DatasetResultLabelsetsLabels(id='135163', name='TIP01-1_fresh', count=12114, typename__='Label'), DatasetResultLabelsetsLabels(id='135181', name='TIP02-1_fresh', count=7231, typename__='Label'), DatasetResultLabelsetsLabels(id='135169', name='TIP02-2_fresh', count=9603, typename__='Label'), DatasetResultLabelsetsLabels(id='135170', name='TIP03-1_fresh', count=9256, typename__='Label'), DatasetResultLabelsetsLabels(id='135164', name='TIP03-2_fresh', count=12037, typename__='Label'), DatasetResultLabelsetsLabels(id='135156', name='TIP04-1_fresh', count=3574, typename__='Label'), DatasetResultLabelsetsLabels(id='135157', name='TIP04-2_fresh', count=2408, typename__='Label')], typename__='Labelset'), DatasetResultLabelsets(id='10916', name='sex', labels=[DatasetResultLabelsetsLabels(id='135187', name='female', count=145866, typename__='Label'), DatasetResultLabelsetsLabels(id='135186', name='male', count=232097, typename__='Label')], typename__='Labelset'), DatasetResultLabelsets(id='10917', name='assay', labels=[DatasetResultLabelsetsLabels(id='135188', name=\"10x 3' v3\", count=377963, typename__='Label')], typename__='Labelset'), DatasetResultLabelsets(id='10918', name='disease', labels=[DatasetResultLabelsetsLabels(id='135189', name='tonsillitis', count=377963, typename__='Label')], typename__='Labelset')], project=DatasetResultProject(version=1.0, owner=ProjectAuthorsProjectOwner(uid='LR1qUBC8LVQ53byIcflPMNEDecs2', temp_display_name='', display_name='CAP Data Upload', avatar_url='', typename__='CapUser'), permissions=[], typename__='Project', id='389', name='An Atlas of Cells in the Human Tonsil'), typename__='Dataset')"
      ]
     },
     "execution_count": 5,
     "metadata": {},
     "output_type": "execute_result"
    }
   ],
   "source": [
    "ds.results[0]"
   ]
  },
  {
   "cell_type": "code",
   "execution_count": 6,
   "metadata": {},
   "outputs": [],
   "source": [
    "md = client.open_md_session(dataset_id=\"825\")"
   ]
  },
  {
   "cell_type": "code",
   "execution_count": 7,
   "metadata": {},
   "outputs": [
    {
     "data": {
      "text/plain": [
       "Molecular Data page session for dataset id: 825"
      ]
     },
     "execution_count": 7,
     "metadata": {},
     "output_type": "execute_result"
    }
   ],
   "source": [
    "md"
   ]
  },
  {
   "cell_type": "code",
   "execution_count": null,
   "metadata": {},
   "outputs": [],
   "source": []
  }
 ],
 "metadata": {
  "kernelspec": {
   "display_name": "cap_pyent",
   "language": "python",
   "name": "python3"
  },
  "language_info": {
   "codemirror_mode": {
    "name": "ipython",
    "version": 3
   },
   "file_extension": ".py",
   "mimetype": "text/x-python",
   "name": "python",
   "nbconvert_exporter": "python",
   "pygments_lexer": "ipython3",
   "version": "3.13.0"
  }
 },
 "nbformat": 4,
 "nbformat_minor": 2
}
